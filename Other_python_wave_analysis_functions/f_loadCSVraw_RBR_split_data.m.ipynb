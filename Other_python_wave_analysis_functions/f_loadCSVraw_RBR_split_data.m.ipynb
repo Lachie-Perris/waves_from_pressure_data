{
 "cells": [
  {
   "cell_type": "code",
   "execution_count": null,
   "id": "5d3606d0",
   "metadata": {},
   "outputs": [],
   "source": []
  },
  {
   "cell_type": "code",
   "execution_count": null,
   "id": "a9bdca78",
   "metadata": {},
   "outputs": [],
   "source": [
    "import numpy as np\n",
    "import datetime\n",
    "\n",
    "def f_loadCSVraw_RBR_split_data(pname, fname):\n",
    "    # Load raw CSV data from RBR file with split data format\n",
    "    \n",
    "    global last_data_path\n",
    "\n",
    "    if not last_data_path or not isinstance(last_data_path, str):\n",
    "        init_data_path = os.getcwd()\n",
    "    else:\n",
    "        init_data_path = last_data_path\n",
    "\n",
    "    if not pname and not fname:\n",
    "        fname, pname = QFileDialog.getOpenFileName(\n",
    "            None,\n",
    "            'Get .csv file',\n",
    "            os.path.join(init_data_path, '*.csv')\n",
    "        )\n",
    "\n",
    "    if '*' in fname:\n",
    "        fname, pname = QFileDialog.getOpenFileName(\n",
    "            None,\n",
    "            'Get .csv file',\n",
    "            os.path.join(pname, fname + '.csv')\n",
    "        )\n",
    "\n",
    "    last_data_path = pname\n",
    "\n",
    "    if not isinstance(fname, str) or not isinstance(pname, str):\n",
    "        raise ValueError('No file selected !!')\n",
    "\n",
    "    with open(os.path.join(pname, fname)) as fid:\n",
    "        # ARQUIVO02 - RBR\n",
    "        d = np.genfromtxt(\n",
    "            fid,\n",
    "            delimiter=',',\n",
    "            skip_header=2,\n",
    "            dtype={\n",
    "                'names': ('datetime', 'col2', 'col3', 'pressure'),\n",
    "                'formats': ('U23', float, float, float)\n",
    "            }\n",
    "        )\n",
    "\n",
    "    data = {}\n",
    "    data['info'] = {\n",
    "        'pname': pname,\n",
    "        'fname': fname\n",
    "    }\n",
    "\n",
    "    data['time'] = [datetime.datetime.strptime(dt, '%d/%m/%Y %H:%M:%S.%f') for dt in d['datetime']]\n",
    "    data['press'] = d['pressure']\n",
    "\n",
    "    return data"
   ]
  }
 ],
 "metadata": {
  "kernelspec": {
   "display_name": "Python 3 (ipykernel)",
   "language": "python",
   "name": "python3"
  },
  "language_info": {
   "codemirror_mode": {
    "name": "ipython",
    "version": 3
   },
   "file_extension": ".py",
   "mimetype": "text/x-python",
   "name": "python",
   "nbconvert_exporter": "python",
   "pygments_lexer": "ipython3",
   "version": "3.9.19"
  }
 },
 "nbformat": 4,
 "nbformat_minor": 5
}
