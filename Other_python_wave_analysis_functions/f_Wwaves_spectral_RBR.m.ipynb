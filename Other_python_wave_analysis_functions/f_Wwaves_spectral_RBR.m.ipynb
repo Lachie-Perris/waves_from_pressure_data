{
 "cells": [
  {
   "cell_type": "code",
   "execution_count": null,
   "id": "2ae8a02e",
   "metadata": {},
   "outputs": [],
   "source": [
    "import numpy as np\n",
    "\n",
    "def f_Wwaves_spectral_RBR(px_in, f_in, dt):\n",
    "    \"\"\"\n",
    "    Calculate surface wind wave parameters.\n",
    "\n",
    "    px_in: power spectrum array\n",
    "    f_in: frequency array\n",
    "    dt: time sampling interval\n",
    "\n",
    "    Returns a dictionary with wave parameters.\n",
    "    \"\"\"\n",
    "\n",
    "    n21 = px_in.shape[0]\n",
    "    n = (n21 - 1) * 2\n",
    "\n",
    "    # Calculating wave parameters in the gravity band (between 0.25 and 1 Hz means 1s and 4s)\n",
    "    jj = np.where((f_in >= 0.25) & (f_in < 1))[0]\n",
    "\n",
    "    f = f_in[jj]\n",
    "    px = px_in[jj]\n",
    "\n",
    "    m0 = np.sum(px) / (n * dt)\n",
    "    m1 = np.sum(f * px) / (n * dt)\n",
    "    m2 = np.sum((f ** 2) * px) / (n * dt)\n",
    "    m4 = np.sum((f ** 4) * px) / (n * dt)\n",
    "\n",
    "    hs = 4.0 * np.sqrt(m0)\n",
    "    hrms = np.sqrt(8 * m0)\n",
    "    tm02 = np.sqrt(m0 / m2)\n",
    "    tmean = m0 / m1\n",
    "    eps = np.sqrt(1.0 - (m2 ** 2) / (m0 * m4))\n",
    "\n",
    "    # Calculate Hmax and Tpeak using a high cutoff freq.\n",
    "    ii = np.where(f >= 0.025)[0]\n",
    "    fc = f[ii]\n",
    "    pxc = px[ii]\n",
    "    j = np.argmax(pxc)\n",
    "    tpeak = 1 / fc[j]\n",
    "    hmax = 2 * hs\n",
    "\n",
    "    out = {\n",
    "        'hs': hs,\n",
    "        'hrms': hrms,\n",
    "        'hmax': hmax,\n",
    "        'tm02': tm02,\n",
    "        'tm01': tmean,\n",
    "        'tpeak': tpeak,\n",
    "        'eps': eps\n",
    "    }\n",
    "    return out"
   ]
  }
 ],
 "metadata": {
  "kernelspec": {
   "display_name": "Python 3 (ipykernel)",
   "language": "python",
   "name": "python3"
  },
  "language_info": {
   "codemirror_mode": {
    "name": "ipython",
    "version": 3
   },
   "file_extension": ".py",
   "mimetype": "text/x-python",
   "name": "python",
   "nbconvert_exporter": "python",
   "pygments_lexer": "ipython3",
   "version": "3.9.12"
  }
 },
 "nbformat": 4,
 "nbformat_minor": 5
}
