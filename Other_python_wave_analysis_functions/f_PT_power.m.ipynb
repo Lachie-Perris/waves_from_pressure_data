{
 "cells": [
  {
   "cell_type": "code",
   "execution_count": null,
   "id": "a6856407",
   "metadata": {},
   "outputs": [],
   "source": [
    "import numpy as np\n",
    "\n",
    "def f_PT_power(x, dt, h=0):\n",
    "    \"\"\"\n",
    "    Input data:\n",
    "    x: vector with input time series\n",
    "    dt: time sampling intervals\n",
    "    h: use Hanning window, default 0 (no)\n",
    "\n",
    "    This function calculates the power spectrum px from a time series x.\n",
    "    It outputs both frequency and power arrays.\n",
    "\n",
    "    Created by Brad Morris\n",
    "    Friday 28 February 2003\n",
    "    Last modified Wednesday 25 July 2012\n",
    "    \"\"\"\n",
    "\n",
    "    if h == 0:\n",
    "        h = False\n",
    "\n",
    "    # Evaluate the size of the vector\n",
    "    n = len(x)\n",
    "    # Detrend the time series and keep it on vector xd\n",
    "    xd = np.detrend(x)\n",
    "\n",
    "    if h:\n",
    "        # Apply a Hanning window in the time domain\n",
    "        xd = xd * np.hanning(n)\n",
    "\n",
    "    # Calculate the Fast Fourier Transform\n",
    "    xn = np.fft.fft(xd, n)\n",
    "\n",
    "    if h:\n",
    "        # Important: in the case that you apply the Hanning window,\n",
    "        #            it is important to multiply the Fourier\n",
    "        #            coefficients xn by sqrt(8/3).\n",
    "        xn = xn * np.sqrt(8 / 3)\n",
    "\n",
    "    # Calculate the two sided Power Spectrum\n",
    "    pxx = dt * (xn * np.conj(xn)) / n\n",
    "    # Calculate the two sided amplitude spectrum\n",
    "    paa = np.sqrt(xn * np.conj(xn)) / n\n",
    "    pxx = dt * (xn * np.conj(xn)) / n\n",
    "\n",
    "    # Calculate one-sided spectrum\n",
    "    nf = int((n / 2) + 1)\n",
    "    px = 2.0 * pxx[:nf]  # power spectrum\n",
    "    pa = 2.0 * paa[:nf]  # amplitude spectrum\n",
    "\n",
    "    # Define the frequency vector\n",
    "    f = np.arange(0, 1 / (2 * dt), 1 / (n * dt))\n",
    "\n",
    "    out = {'f': f, 'px': px, 'pa': pa}\n",
    "    return out"
   ]
  }
 ],
 "metadata": {
  "kernelspec": {
   "display_name": "Python 3 (ipykernel)",
   "language": "python",
   "name": "python3"
  },
  "language_info": {
   "codemirror_mode": {
    "name": "ipython",
    "version": 3
   },
   "file_extension": ".py",
   "mimetype": "text/x-python",
   "name": "python",
   "nbconvert_exporter": "python",
   "pygments_lexer": "ipython3",
   "version": "3.9.12"
  }
 },
 "nbformat": 4,
 "nbformat_minor": 5
}
