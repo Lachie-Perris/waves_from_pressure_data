{
 "cells": [
  {
   "cell_type": "code",
   "execution_count": null,
   "id": "6aca62a6",
   "metadata": {},
   "outputs": [],
   "source": [
    "import matplotlib.pyplot as plt\n",
    "import datetime\n",
    "\n",
    "def f_PT_plot_zeroup(wave, zeroup):\n",
    "    # Plots PT results from zeroup analyses using PT_tool_spectral\n",
    "    # Created by Ana Vila Concejo 21.05.2017\n",
    "\n",
    "    # Plots wave parameters taking into account all data, only sea-swell\n",
    "    # (gravity) and infragravity obtained from wave-by-wave analyses using\n",
    "    # zeroup.\n",
    "\n",
    "    f5 = plt.figure(5)\n",
    "\n",
    "    plt.subplot(3, 1, 1)\n",
    "    plt.plot(wave.time, wave.mpress)\n",
    "    plt.title('Zero-up wave analyses')\n",
    "    plt.xticks(rotation=45)\n",
    "    plt.ylabel('Mean water level (m)')\n",
    "    plt.grid(True)\n",
    "\n",
    "    plt.subplot(3, 1, 2)\n",
    "    plt.plot(wave.time, zeroup.total.Hmax)\n",
    "    plt.hold(True)\n",
    "    plt.plot(wave.time, zeroup.total.Hsig, 'r')\n",
    "    plt.plot(wave.time, zeroup.filtHigh.Hmax, 'g')\n",
    "    plt.plot(wave.time, zeroup.filtHigh.Hsig, 'c')\n",
    "    plt.plot(wave.time, zeroup.filtLow.Hmax, 'm')\n",
    "    plt.plot(wave.time, zeroup.filtLow.Hsig, 'y')\n",
    "    plt.hold(False)\n",
    "    plt.xticks(rotation=45)\n",
    "    plt.ylabel('Wave height (m)')\n",
    "    plt.legend(['Hmax', 'Hsig', 'ss-Hmax', 'ss-Hsig', 'ig-Hmax', 'ig-Hsig'], loc='best', ncol=2)\n",
    "    plt.grid(True)\n",
    "\n",
    "    plt.subplot(3, 1, 3)\n",
    "    plt.plot(wave.time, zeroup.total.Tz)\n",
    "    plt.hold(True)\n",
    "    plt.plot(wave.time, zeroup.filtHigh.Tz, 'r')\n",
    "    plt.plot(wave.time, zeroup.filtLow.Tz, 'g')\n",
    "    plt.hold(False)\n",
    "    plt.xticks(rotation=45)\n",
    "    plt.ylabel('Wave period (s)')\n",
    "    plt.legend(['Tz', 'ss-Tz', 'ig-Tz'], loc='best', ncol=2)\n",
    "    plt.grid(True)\n",
    "\n",
    "    plt.show()"
   ]
  }
 ],
 "metadata": {
  "kernelspec": {
   "display_name": "Python 3 (ipykernel)",
   "language": "python",
   "name": "python3"
  },
  "language_info": {
   "codemirror_mode": {
    "name": "ipython",
    "version": 3
   },
   "file_extension": ".py",
   "mimetype": "text/x-python",
   "name": "python",
   "nbconvert_exporter": "python",
   "pygments_lexer": "ipython3",
   "version": "3.9.19"
  }
 },
 "nbformat": 4,
 "nbformat_minor": 5
}
