{
 "cells": [
  {
   "cell_type": "code",
   "execution_count": null,
   "id": "cd63be90",
   "metadata": {},
   "outputs": [],
   "source": [
    "import numpy as np\n",
    "\n",
    "def PT_waves_zeroup(data):\n",
    "    \"\"\"\n",
    "    Calculate wave parameters from zero-up analysis.\n",
    "\n",
    "    data: dictionary with input data, including 'time' and 'press' arrays\n",
    "\n",
    "    Returns a dictionary with wave parameters.\n",
    "    \"\"\"\n",
    "\n",
    "    waves = {}\n",
    "\n",
    "    for l in range(data['time'].shape[1]):\n",
    "        h = np.detrend(data['press'][:, l])\n",
    "        t = (data['time'][:, l] - data['time'][0, l]) * 24 * 60 * 60\n",
    "\n",
    "        idx = np.where(np.diff(np.sign(h)) == 2)[0]\n",
    "        idxm = np.where(np.diff(np.sign(h)) == -2)[0]\n",
    "        if len(idx) < len(idxm):\n",
    "            idx = idxm\n",
    "\n",
    "        hs_all = np.zeros(len(idx) - 1)\n",
    "        tz_all = np.zeros(len(idx) - 1)\n",
    "\n",
    "        for k in range(len(idx) - 1):\n",
    "            hs_all[k] = np.max(h[idx[k]:idx[k + 1]]) - np.min(h[idx[k]:idx[k + 1]])\n",
    "            tz_all[k] = np.max(t[idx[k]:idx[k + 1]]) - np.min(t[idx[k]:idx[k + 1]])\n",
    "\n",
    "        waves['Tz'] = np.mean(tz_all)\n",
    "        waves['Hmax'] = np.max(hs_all)\n",
    "\n",
    "        n = hs_all.shape[0]\n",
    "        nn = int(2 / 3 * n)\n",
    "        hss = np.sort(hs_all)\n",
    "        waves['Hsig'] = np.mean(hs_all[hs_all >= hss[int(nn)]])\n",
    "\n",
    "    return waves"
   ]
  }
 ],
 "metadata": {
  "kernelspec": {
   "display_name": "Python 3 (ipykernel)",
   "language": "python",
   "name": "python3"
  },
  "language_info": {
   "codemirror_mode": {
    "name": "ipython",
    "version": 3
   },
   "file_extension": ".py",
   "mimetype": "text/x-python",
   "name": "python",
   "nbconvert_exporter": "python",
   "pygments_lexer": "ipython3",
   "version": "3.9.19"
  }
 },
 "nbformat": 4,
 "nbformat_minor": 5
}
